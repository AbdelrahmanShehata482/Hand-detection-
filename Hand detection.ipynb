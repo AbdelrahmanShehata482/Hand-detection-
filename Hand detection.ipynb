{
 "cells": [
  {
   "cell_type": "code",
   "execution_count": 1,
   "id": "420278e9",
   "metadata": {},
   "outputs": [],
   "source": [
    "import cv2             # computer vision\n",
    "import mediapipe as mp # machine learning\n",
    "import numpy as np     # numerical python\n",
    "\n",
    "def get_label(index, hand_landmark, results):\n",
    "    output = None\n",
    "    for idx, classification in enumerate(results.multi_handedness):\n",
    "        if classification.classification[0].index == index:\n",
    "\n",
    "            # Process results\n",
    "            label = classification.classification[0].label\n",
    "\n",
    "            #Extract Coordinates\n",
    "            coordinates = tuple(np.multiply(\n",
    "                np.array((hand_landmark.landmark[mp_hands.HandLandmark.WRIST].x, hand_landmark.landmark[mp_hands.HandLandmark.WRIST].y)),\n",
    "            [640,480]).astype(int))\n",
    "           # print(coordinates)\n",
    "            output = label ,coordinates\n",
    "\n",
    "    return output"
   ]
  },
  {
   "cell_type": "code",
   "execution_count": 2,
   "id": "3ff2683b",
   "metadata": {},
   "outputs": [
    {
     "ename": "KeyboardInterrupt",
     "evalue": "",
     "output_type": "error",
     "traceback": [
      "\u001b[1;31m---------------------------------------------------------------------------\u001b[0m",
      "\u001b[1;31mKeyboardInterrupt\u001b[0m                         Traceback (most recent call last)",
      "\u001b[1;32mC:\\Users\\AL-ALA~1\\AppData\\Local\\Temp/ipykernel_16460/3861840278.py\u001b[0m in \u001b[0;36m<module>\u001b[1;34m\u001b[0m\n\u001b[0;32m     14\u001b[0m           continue\"\"\"\n\u001b[0;32m     15\u001b[0m \u001b[1;33m\u001b[0m\u001b[0m\n\u001b[1;32m---> 16\u001b[1;33m         \u001b[0mimage\u001b[0m \u001b[1;33m=\u001b[0m \u001b[0mcv2\u001b[0m\u001b[1;33m.\u001b[0m\u001b[0mflip\u001b[0m\u001b[1;33m(\u001b[0m\u001b[0mimage\u001b[0m\u001b[1;33m,\u001b[0m \u001b[1;36m1\u001b[0m\u001b[1;33m)\u001b[0m  \u001b[1;31m# flip the image\u001b[0m\u001b[1;33m\u001b[0m\u001b[1;33m\u001b[0m\u001b[0m\n\u001b[0m\u001b[0;32m     17\u001b[0m \u001b[1;33m\u001b[0m\u001b[0m\n\u001b[0;32m     18\u001b[0m         \u001b[1;31m# hand Detection code\u001b[0m\u001b[1;33m\u001b[0m\u001b[1;33m\u001b[0m\u001b[0m\n",
      "\u001b[1;31mKeyboardInterrupt\u001b[0m: "
     ]
    }
   ],
   "source": [
    "mp_drawing = mp.solutions.drawing_utils   # call function for Drawing the hands\n",
    "mp_hands = mp.solutions.hands             # call function for give the  solution\n",
    "\n",
    "cam = cv2.VideoCapture(0)  # start vedio but not on screen\n",
    "#stored as variable called hands\n",
    "with mp_hands.Hands(min_detection_confidence=0.5,min_tracking_confidence=0.5,max_num_hands=10) as hands:\n",
    "\n",
    "    while cam.isOpened():\n",
    "        success, image = cam.read()\n",
    "\n",
    "        \"\"\"if not success:\n",
    "          print(\"Ignoring empty camera frame.\")\n",
    "          # If loading a video, use 'break' instead of 'continue'.\n",
    "          continue\"\"\"\n",
    "\n",
    "        image = cv2.flip(image, 1)  # flip the image\n",
    "\n",
    "        # hand Detection code\n",
    "        results = hands.process(image)  # detect only hands without drawing\n",
    "\n",
    "        # draw the hand and land marks (x:horizontall,y:verticall,z:depth)\n",
    "        if results.multi_hand_landmarks:      #(if exist hands and landmarks)\n",
    "            for num,hand_landmarks in enumerate(results.multi_hand_landmarks):   #(for loop in the hand that detected)\n",
    "                mp_drawing.draw_landmarks(       #draw the dimensions and landmarks\n",
    "                     image, hand_landmarks, mp_hands.HAND_CONNECTIONS,\n",
    "                     mp_drawing.DrawingSpec(color=(0, 0, 250), thickness=5, circle_radius=3), #hand marks (bgr)\n",
    "                     mp_drawing.DrawingSpec(color=(0, 0, 0), thickness=4, circle_radius=2))   #lines      (bgr)\n",
    "\n",
    "                if get_label(num,hand_landmarks,results):\n",
    "                    label,coordinates = get_label(num,hand_landmarks,results)\n",
    "                    cv2.putText(image,label,coordinates,cv2.FONT_HERSHEY_SIMPLEX,1,(250,250,250),2,cv2.LINE_AA)\n",
    "\n",
    "        cv2.imshow('Hand Detection', image)\n",
    "        if cv2.waitKey(5) == 27:\n",
    "            break\n",
    "\n",
    "#print(results.multi_hand_landmarks)\n",
    "#print('iiiiiiiiiiiiiiiiiiiiiiiiiiiiiiiiiiiiiiiiiiiiiiiiiiiiii')\n",
    "#print(results.multi_hand_landmarks[1])\n",
    "#print('iiiiiiiiiiiiiiiiiiiiiiiiiiiiiiiiiiiiiiiiiiiiiiiiiiiiii')\n",
    "#print(results.multi_hand_landmarks[0].landmark[mp_hands.HandLandmark.WRIST])\n",
    "#print(results.multi_handedness)\n",
    "#print(results.multi_handedness[0].classification[0].index)"
   ]
  }
 ],
 "metadata": {
  "kernelspec": {
   "display_name": "Python 3 (ipykernel)",
   "language": "python",
   "name": "python3"
  },
  "language_info": {
   "codemirror_mode": {
    "name": "ipython",
    "version": 3
   },
   "file_extension": ".py",
   "mimetype": "text/x-python",
   "name": "python",
   "nbconvert_exporter": "python",
   "pygments_lexer": "ipython3",
   "version": "3.9.7"
  }
 },
 "nbformat": 4,
 "nbformat_minor": 5
}
